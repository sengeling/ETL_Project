{
 "cells": [
  {
   "cell_type": "code",
   "execution_count": 1,
   "metadata": {},
   "outputs": [],
   "source": [
    "# Import dependencies\n",
    "import pandas as pd\n",
    "from sqlalchemy import create_engine\n",
    "import pymysql\n",
    "pymysql.install_as_MySQLdb()"
   ]
  },
  {
   "cell_type": "code",
   "execution_count": 2,
   "metadata": {},
   "outputs": [],
   "source": [
    "# Read in F1 Grand Prix data from https://www.kaggle.com/cjgdev/formula-1-race-data-19502017\n",
    "races_csv = pd.read_csv(\"races.csv\") \n",
    "results_csv = pd.read_csv(\"results.csv\")\n",
    "circuits_csv = pd.read_csv(\"circuits.csv\")\n",
    "drivers_csv = pd.read_csv(\"drivers.csv\")"
   ]
  },
  {
   "cell_type": "code",
   "execution_count": 3,
   "metadata": {},
   "outputs": [],
   "source": [
    "# Set the index for the circuits csv to circuitId\n",
    "circuits_csv = circuits_csv.set_index('circuitId')"
   ]
  },
  {
   "cell_type": "code",
   "execution_count": 4,
   "metadata": {},
   "outputs": [],
   "source": [
    "# Locate only circuits in the US\n",
    "circuits_csv = circuits_csv.loc[circuits_csv['country'] == 'USA']"
   ]
  },
  {
   "cell_type": "code",
   "execution_count": 5,
   "metadata": {},
   "outputs": [],
   "source": [
    "# drop uncommon or unknown US circuits based on circuitId (Index)\n",
    "circuits_csv = circuits_csv.drop([37, 42, 43, 44, 72])"
   ]
  },
  {
   "cell_type": "code",
   "execution_count": 6,
   "metadata": {},
   "outputs": [],
   "source": [
    "# Reset the index to make merging easier later\n",
    "circuits_csv = circuits_csv.reset_index()"
   ]
  },
  {
   "cell_type": "code",
   "execution_count": 7,
   "metadata": {},
   "outputs": [],
   "source": [
    "# Remove uncommon or unknown US circuits\n",
    "races_csv = races_csv.loc[races_csv['circuitId'] != 43]"
   ]
  },
  {
   "cell_type": "code",
   "execution_count": 8,
   "metadata": {},
   "outputs": [],
   "source": [
    "# Save only US Races\n",
    "races_csv = races_csv.loc[races_csv['name'].isin(['United States Grand Prix', 'United States Grand Prix West'])]"
   ]
  },
  {
   "cell_type": "code",
   "execution_count": 9,
   "metadata": {},
   "outputs": [],
   "source": [
    "# Combine the circuits and races dfs\n",
    "cir_race = pd.merge(circuits_csv, races_csv, on='circuitId')"
   ]
  },
  {
   "cell_type": "code",
   "execution_count": 10,
   "metadata": {},
   "outputs": [],
   "source": [
    "# Combine the drivers and the results dfs\n",
    "dri_res = pd.merge(drivers_csv, results_csv, on='driverId')"
   ]
  },
  {
   "cell_type": "code",
   "execution_count": 11,
   "metadata": {},
   "outputs": [],
   "source": [
    "# combine the circuits/race df and the driver/results df into one final combined df\n",
    "combined_df = pd.merge(cir_race, dri_res, on='raceId')\n",
    "combined_df = combined_df.drop(columns=['circuitRef', 'lat', 'lng', 'alt', 'url_x', 'url_y', 'url', 'name_y', 'time_x', 'round', 'constructorId', 'number_y', 'grid', 'position', 'positionText', 'milliseconds',\n",
    "       'fastestLap', 'statusId', 'rank', 'resultId', 'number_x', 'driverRef', 'code'])"
   ]
  },
  {
   "cell_type": "code",
   "execution_count": 12,
   "metadata": {
    "scrolled": true
   },
   "outputs": [],
   "source": [
    "# Rename columns to something more meaningful\n",
    "combined_df = combined_df.rename(columns={'name_x':'trackName',\n",
    "                          'forename':'firstName',\n",
    "                          'time_y':'driverRaceTime'})"
   ]
  },
  {
   "cell_type": "code",
   "execution_count": 13,
   "metadata": {},
   "outputs": [],
   "source": [
    "# min_lap_time = combined_df\\\n",
    "#     .dropna(how='any')\\\n",
    "#     .groupby('date')['fastestLapTime']\\\n",
    "#     .min()\\\n",
    "#     .to_frame()\\\n",
    "#     .rename(columns={'fastestLapTime': 'overallFastestLapTime'})\n",
    "# min_lap_time"
   ]
  },
  {
   "cell_type": "code",
   "execution_count": 14,
   "metadata": {},
   "outputs": [],
   "source": [
    "#df2 = pd.merge(combined_df, min_lap_time, on='date')"
   ]
  },
  {
   "cell_type": "code",
   "execution_count": 15,
   "metadata": {},
   "outputs": [],
   "source": [
    "#df2.loc[df2['fastestLapTime'] == df2['overallFastestLapTime']] "
   ]
  },
  {
   "cell_type": "code",
   "execution_count": 16,
   "metadata": {},
   "outputs": [],
   "source": [
    "# combined_df.columns"
   ]
  },
  {
   "cell_type": "code",
   "execution_count": 17,
   "metadata": {},
   "outputs": [],
   "source": [
    "# Connect to the database\n",
    "rds_connection_string = \"root:Stup!dR00tP@55w0rd@127.0.0.1/f1_weather_db\"\n",
    "engine = create_engine(f'mysql://{rds_connection_string}')"
   ]
  },
  {
   "cell_type": "code",
   "execution_count": 18,
   "metadata": {},
   "outputs": [],
   "source": [
    "# Add the combined f1 dataframe to the database\n",
    "combined_df.to_sql(name='f1_data', con=engine, if_exists='append', index=False)"
   ]
  },
  {
   "cell_type": "code",
   "execution_count": 19,
   "metadata": {},
   "outputs": [
    {
     "data": {
      "text/html": [
       "<div>\n",
       "<style scoped>\n",
       "    .dataframe tbody tr th:only-of-type {\n",
       "        vertical-align: middle;\n",
       "    }\n",
       "\n",
       "    .dataframe tbody tr th {\n",
       "        vertical-align: top;\n",
       "    }\n",
       "\n",
       "    .dataframe thead th {\n",
       "        text-align: right;\n",
       "    }\n",
       "</style>\n",
       "<table border=\"1\" class=\"dataframe\">\n",
       "  <thead>\n",
       "    <tr style=\"text-align: right;\">\n",
       "      <th></th>\n",
       "      <th>circuitId</th>\n",
       "      <th>trackName</th>\n",
       "      <th>location</th>\n",
       "      <th>country</th>\n",
       "      <th>raceId</th>\n",
       "      <th>year</th>\n",
       "      <th>date</th>\n",
       "      <th>driverId</th>\n",
       "      <th>firstName</th>\n",
       "      <th>surname</th>\n",
       "      <th>dob</th>\n",
       "      <th>nationality</th>\n",
       "      <th>positionOrder</th>\n",
       "      <th>points</th>\n",
       "      <th>laps</th>\n",
       "      <th>driverRaceTime</th>\n",
       "      <th>fastestLapTime</th>\n",
       "      <th>fastestLapSpeed</th>\n",
       "    </tr>\n",
       "  </thead>\n",
       "  <tbody>\n",
       "    <tr>\n",
       "      <th>0</th>\n",
       "      <td>19</td>\n",
       "      <td>Indianapolis Motor Speedway</td>\n",
       "      <td>Indianapolis</td>\n",
       "      <td>USA</td>\n",
       "      <td>42</td>\n",
       "      <td>2007</td>\n",
       "      <td>6/17/2007</td>\n",
       "      <td>1</td>\n",
       "      <td>Lewis</td>\n",
       "      <td>Hamilton</td>\n",
       "      <td>7/1/1985</td>\n",
       "      <td>British</td>\n",
       "      <td>1</td>\n",
       "      <td>10.0</td>\n",
       "      <td>73</td>\n",
       "      <td>31:10.0</td>\n",
       "      <td>01:13.2</td>\n",
       "      <td>206.101</td>\n",
       "    </tr>\n",
       "    <tr>\n",
       "      <th>1</th>\n",
       "      <td>19</td>\n",
       "      <td>Indianapolis Motor Speedway</td>\n",
       "      <td>Indianapolis</td>\n",
       "      <td>USA</td>\n",
       "      <td>42</td>\n",
       "      <td>2007</td>\n",
       "      <td>6/17/2007</td>\n",
       "      <td>2</td>\n",
       "      <td>Nick</td>\n",
       "      <td>Heidfeld</td>\n",
       "      <td>10/5/1977</td>\n",
       "      <td>German</td>\n",
       "      <td>18</td>\n",
       "      <td>0.0</td>\n",
       "      <td>56</td>\n",
       "      <td>None</td>\n",
       "      <td>01:13.4</td>\n",
       "      <td>205.562</td>\n",
       "    </tr>\n",
       "    <tr>\n",
       "      <th>2</th>\n",
       "      <td>19</td>\n",
       "      <td>Indianapolis Motor Speedway</td>\n",
       "      <td>Indianapolis</td>\n",
       "      <td>USA</td>\n",
       "      <td>42</td>\n",
       "      <td>2007</td>\n",
       "      <td>6/17/2007</td>\n",
       "      <td>3</td>\n",
       "      <td>Nico</td>\n",
       "      <td>Rosberg</td>\n",
       "      <td>27/06/1985</td>\n",
       "      <td>German</td>\n",
       "      <td>16</td>\n",
       "      <td>0.0</td>\n",
       "      <td>68</td>\n",
       "      <td>None</td>\n",
       "      <td>01:14.1</td>\n",
       "      <td>203.753</td>\n",
       "    </tr>\n",
       "    <tr>\n",
       "      <th>3</th>\n",
       "      <td>19</td>\n",
       "      <td>Indianapolis Motor Speedway</td>\n",
       "      <td>Indianapolis</td>\n",
       "      <td>USA</td>\n",
       "      <td>42</td>\n",
       "      <td>2007</td>\n",
       "      <td>6/17/2007</td>\n",
       "      <td>4</td>\n",
       "      <td>Fernando</td>\n",
       "      <td>Alonso</td>\n",
       "      <td>29/07/1981</td>\n",
       "      <td>Spanish</td>\n",
       "      <td>2</td>\n",
       "      <td>8.0</td>\n",
       "      <td>73</td>\n",
       "      <td>1.5</td>\n",
       "      <td>01:13.3</td>\n",
       "      <td>206.003</td>\n",
       "    </tr>\n",
       "    <tr>\n",
       "      <th>4</th>\n",
       "      <td>19</td>\n",
       "      <td>Indianapolis Motor Speedway</td>\n",
       "      <td>Indianapolis</td>\n",
       "      <td>USA</td>\n",
       "      <td>42</td>\n",
       "      <td>2007</td>\n",
       "      <td>6/17/2007</td>\n",
       "      <td>5</td>\n",
       "      <td>Heikki</td>\n",
       "      <td>Kovalainen</td>\n",
       "      <td>19/10/1981</td>\n",
       "      <td>Finnish</td>\n",
       "      <td>5</td>\n",
       "      <td>4.0</td>\n",
       "      <td>73</td>\n",
       "      <td>41.4</td>\n",
       "      <td>01:14.0</td>\n",
       "      <td>203.94</td>\n",
       "    </tr>\n",
       "  </tbody>\n",
       "</table>\n",
       "</div>"
      ],
      "text/plain": [
       "   circuitId                    trackName      location country  raceId  year  \\\n",
       "0         19  Indianapolis Motor Speedway  Indianapolis     USA      42  2007   \n",
       "1         19  Indianapolis Motor Speedway  Indianapolis     USA      42  2007   \n",
       "2         19  Indianapolis Motor Speedway  Indianapolis     USA      42  2007   \n",
       "3         19  Indianapolis Motor Speedway  Indianapolis     USA      42  2007   \n",
       "4         19  Indianapolis Motor Speedway  Indianapolis     USA      42  2007   \n",
       "\n",
       "        date  driverId firstName     surname         dob nationality  \\\n",
       "0  6/17/2007         1     Lewis    Hamilton    7/1/1985     British   \n",
       "1  6/17/2007         2      Nick    Heidfeld   10/5/1977      German   \n",
       "2  6/17/2007         3      Nico     Rosberg  27/06/1985      German   \n",
       "3  6/17/2007         4  Fernando      Alonso  29/07/1981     Spanish   \n",
       "4  6/17/2007         5    Heikki  Kovalainen  19/10/1981     Finnish   \n",
       "\n",
       "   positionOrder  points  laps driverRaceTime fastestLapTime fastestLapSpeed  \n",
       "0              1    10.0    73        31:10.0        01:13.2         206.101  \n",
       "1             18     0.0    56           None        01:13.4         205.562  \n",
       "2             16     0.0    68           None        01:14.1         203.753  \n",
       "3              2     8.0    73            1.5        01:13.3         206.003  \n",
       "4              5     4.0    73           41.4        01:14.0          203.94  "
      ]
     },
     "execution_count": 19,
     "metadata": {},
     "output_type": "execute_result"
    }
   ],
   "source": [
    "# Test that the table is presnt and working\n",
    "pd.read_sql_query('select * from f1_data', con=engine).head()"
   ]
  }
 ],
 "metadata": {
  "kernelspec": {
   "display_name": "Python 3",
   "language": "python",
   "name": "python3"
  },
  "language_info": {
   "codemirror_mode": {
    "name": "ipython",
    "version": 3
   },
   "file_extension": ".py",
   "mimetype": "text/x-python",
   "name": "python",
   "nbconvert_exporter": "python",
   "pygments_lexer": "ipython3",
   "version": "3.7.1"
  }
 },
 "nbformat": 4,
 "nbformat_minor": 2
}
